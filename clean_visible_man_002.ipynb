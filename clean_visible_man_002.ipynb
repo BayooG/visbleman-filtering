{
  "nbformat": 4,
  "nbformat_minor": 0,
  "metadata": {
    "colab": {
      "name": "clean visible-man 001.ipynb",
      "provenance": [],
      "collapsed_sections": [],
      "authorship_tag": "ABX9TyOZwCD61Xbc93fcpqzchkAA",
      "include_colab_link": true
    },
    "kernelspec": {
      "name": "python3",
      "display_name": "Python 3"
    }
  },
  "cells": [
    {
      "cell_type": "markdown",
      "metadata": {
        "id": "view-in-github",
        "colab_type": "text"
      },
      "source": [
        "<a href=\"https://colab.research.google.com/github/BayooG/visbleman-filtering/blob/master/clean_visible_man_002.ipynb\" target=\"_parent\"><img src=\"https://colab.research.google.com/assets/colab-badge.svg\" alt=\"Open In Colab\"/></a>"
      ]
    },
    {
      "cell_type": "code",
      "metadata": {
        "id": "y7VGGIt5pLFx",
        "colab_type": "code",
        "outputId": "970fc5ba-1135-4c64-a91c-b335a59cfe9a",
        "colab": {
          "base_uri": "https://localhost:8080/",
          "height": 50
        }
      },
      "source": [
        "!pip install opencv-python"
      ],
      "execution_count": 0,
      "outputs": [
        {
          "output_type": "stream",
          "text": [
            "Requirement already satisfied: opencv-python in /usr/local/lib/python3.6/dist-packages (4.1.2.30)\n",
            "Requirement already satisfied: numpy>=1.11.3 in /usr/local/lib/python3.6/dist-packages (from opencv-python) (1.17.5)\n"
          ],
          "name": "stdout"
        }
      ]
    },
    {
      "cell_type": "code",
      "metadata": {
        "id": "u9mvoIbcpYgh",
        "colab_type": "code",
        "outputId": "b906cbe0-86fc-4bca-8af4-d7123142623a",
        "colab": {
          "base_uri": "https://localhost:8080/",
          "height": 34
        }
      },
      "source": [
        "!pip install numpy"
      ],
      "execution_count": 0,
      "outputs": [
        {
          "output_type": "stream",
          "text": [
            "Requirement already satisfied: numpy in /usr/local/lib/python3.6/dist-packages (1.17.5)\n"
          ],
          "name": "stdout"
        }
      ]
    },
    {
      "cell_type": "code",
      "metadata": {
        "id": "a9PTX-Adpj3I",
        "colab_type": "code",
        "colab": {}
      },
      "source": [
        "import os \n",
        "import cv2 \n",
        "import numpy as np\n",
        "import matplotlib.pyplot as plt\n"
      ],
      "execution_count": 0,
      "outputs": []
    },
    {
      "cell_type": "code",
      "metadata": {
        "id": "ZbiSPTtOqFcZ",
        "colab_type": "code",
        "outputId": "fe187837-52fa-427e-93e4-7ad8e48edb24",
        "colab": {
          "base_uri": "https://localhost:8080/",
          "height": 121
        }
      },
      "source": [
        "from google.colab import drive\n",
        "drive.mount('/content/gdrive/', force_remount= True)"
      ],
      "execution_count": 2,
      "outputs": [
        {
          "output_type": "stream",
          "text": [
            "Go to this URL in a browser: https://accounts.google.com/o/oauth2/auth?client_id=947318989803-6bn6qk8qdgf4n4g3pfee6491hc0brc4i.apps.googleusercontent.com&redirect_uri=urn%3aietf%3awg%3aoauth%3a2.0%3aoob&response_type=code&scope=email%20https%3a%2f%2fwww.googleapis.com%2fauth%2fdocs.test%20https%3a%2f%2fwww.googleapis.com%2fauth%2fdrive%20https%3a%2f%2fwww.googleapis.com%2fauth%2fdrive.photos.readonly%20https%3a%2f%2fwww.googleapis.com%2fauth%2fpeopleapi.readonly\n",
            "\n",
            "Enter your authorization code:\n",
            "··········\n",
            "Mounted at /content/gdrive/\n"
          ],
          "name": "stdout"
        }
      ]
    },
    {
      "cell_type": "code",
      "metadata": {
        "id": "HIo9VDWvqOba",
        "colab_type": "code",
        "colab": {}
      },
      "source": [
        "root_path = '/content/gdrive/My Drive/'"
      ],
      "execution_count": 0,
      "outputs": []
    },
    {
      "cell_type": "code",
      "metadata": {
        "id": "BjlM4y89pnmx",
        "colab_type": "code",
        "colab": {}
      },
      "source": [
        "def filter_image(path, clusers = 3):\n",
        "    k = clusers\n",
        "    kernel = np.ones((9,9),np.uint8)\n",
        "    img = cv2.imread(path)\n",
        "    Z = img.reshape((-1,3))\n",
        "    # convert to np.float32\n",
        "    Z = np.float32(Z)\n",
        "    criteria = (cv2.TERM_CRITERIA_EPS + cv2.TERM_CRITERIA_MAX_ITER, 10, 1.0)\n",
        "    ret,label,center=cv2.kmeans(Z,2,None,criteria,10,cv2.KMEANS_RANDOM_CENTERS)\n",
        "\n",
        "    center = np.uint8(center)\n",
        "    res = center[label.flatten()]\n",
        "    res2 = res.reshape((img.shape))\n",
        "    gray = cv2.cvtColor(res2, cv2.COLOR_BGR2GRAY)\n",
        "    closing = cv2.morphologyEx(gray, cv2.MORPH_OPEN, kernel,iterations=1)\n",
        "    opening = cv2.morphologyEx(closing, cv2.MORPH_CLOSE, kernel,iterations=1)\n",
        "    _, thresh = cv2.threshold(opening, 120, 255, cv2.THRESH_BINARY)\n",
        "    contours, _  = cv2.findContours(thresh, cv2.RETR_EXTERNAL, cv2.CHAIN_APPROX_NONE)\n",
        "    contours = sorted(contours, key= cv2.contourArea, reverse=True)[:2]\n",
        "    cv2.fillPoly(gray, pts =contours, color=(255,255,255))\n",
        "    # plt.imshow(gray)\n",
        "    _, thresh = cv2.threshold(gray, 250, 255, cv2.THRESH_BINARY)\n",
        "    res = cv2.bitwise_and(img,img,mask = thresh)\n",
        "    # plt.imshow(res)\n",
        "    \n",
        "\n",
        "\n",
        "    path = path.split('/')\n",
        "    save_path = '/'.join(path[:-3])+ '/vis_process/blacked_'+path[-1]\n",
        "    croped_path = '/'.join(path[:-3])+ '/vis_process/croped_'+path[-1]\n",
        "    stat = cv2.imwrite(save_path,res)\n",
        "\n",
        "    try:\n",
        "      x,y,w,h = cv2.boundingRect(contours[0])\n",
        "      new_img1=img[y:y+h,x:x+w]\n",
        "      cv2.imwrite(croped_path,new_img1)\n",
        "    except:\n",
        "      print('error in croping', path)\n",
        "    if not stat:\n",
        "      print( path[-1])\n",
        "    \n",
        "    "
      ],
      "execution_count": 0,
      "outputs": []
    },
    {
      "cell_type": "code",
      "metadata": {
        "id": "XQwjD_DsrTha",
        "colab_type": "code",
        "colab": {}
      },
      "source": [
        "def detect_pictures(directory):\n",
        "    pics = [directory+item for item in os.listdir(directory)]\n",
        "    for i,pic in enumerate(pics):\n",
        "            try:\n",
        "              filter_image(pic)\n",
        "            except Exception as e:\n",
        "              print(e, pic)\n",
        "            if i % 100 == 0 or i == len(pics) - 1:\n",
        "              print (i/len(pics)-1)\n",
        "            "
      ],
      "execution_count": 0,
      "outputs": []
    },
    {
      "cell_type": "code",
      "metadata": {
        "id": "yQs5Icy8rT7t",
        "colab_type": "code",
        "colab": {}
      },
      "source": [
        "head_path =root_path+'visible man/head/'\n",
        "head = os.listdir(head_path)"
      ],
      "execution_count": 0,
      "outputs": []
    },
    {
      "cell_type": "markdown",
      "metadata": {
        "id": "hczayjHuulrt",
        "colab_type": "text"
      },
      "source": [
        "you need to do somthing with the thrashold"
      ]
    },
    {
      "cell_type": "code",
      "metadata": {
        "id": "kfz5Zmm2rf5W",
        "colab_type": "code",
        "outputId": "633aeb31-2db3-4532-9220-a6d4df3d4271",
        "colab": {
          "base_uri": "https://localhost:8080/",
          "height": 285
        }
      },
      "source": [
        "filter_image(head_path+head[200],clusers=2)"
      ],
      "execution_count": 0,
      "outputs": [
        {
          "output_type": "stream",
          "text": [
            "/content/gdrive/My Drive/vis_process/a_vm1228.png\n",
            "True\n"
          ],
          "name": "stdout"
        },
        {
          "output_type": "display_data",
          "data": {
            "image/png": "[encoded data removed]",
            "text/plain": [
              "<Figure size 432x288 with 1 Axes>"
            ]
          },
          "metadata": {
            "tags": []
          }
        }
      ]
    },
    {
      "cell_type": "code",
      "metadata": {
        "id": "6Su8CNf1rtaS",
        "colab_type": "code",
        "colab": {}
      },
      "source": [
        "img = cv2.imread(head_path+head[0])\n",
        "plt.imshow(img)"
      ],
      "execution_count": 0,
      "outputs": []
    },
    {
      "cell_type": "code",
      "metadata": {
        "id": "bUuFf2A0rvzi",
        "colab_type": "code",
        "colab": {}
      },
      "source": [
        "s = cv2.imread('/content/gdrive/My Drive/vis_process/a_vm1228.png')"
      ],
      "execution_count": 0,
      "outputs": []
    },
    {
      "cell_type": "code",
      "metadata": {
        "id": "wNXoISFRgFQf",
        "colab_type": "code",
        "outputId": "b2789ff0-c972-428e-d174-605e8b0fd35c",
        "colab": {
          "base_uri": "https://localhost:8080/",
          "height": 1000
        }
      },
      "source": [
        "detect_pictures(head_path)"
      ],
      "execution_count": 14,
      "outputs": [
        {
          "output_type": "stream",
          "text": [
            "-1.0\n",
            "list index out of range /content/gdrive/My Drive/visible man/head/a_vm1262.png\n",
            "list index out of range /content/gdrive/My Drive/visible man/head/a_vm1227.png\n",
            "list index out of range /content/gdrive/My Drive/visible man/head/a_vm1248.png\n",
            "list index out of range /content/gdrive/My Drive/visible man/head/a_vm1189.png\n",
            "list index out of range /content/gdrive/My Drive/visible man/head/a_vm1255.png\n",
            "list index out of range /content/gdrive/My Drive/visible man/head/a_vm1222.png\n",
            "list index out of range /content/gdrive/My Drive/visible man/head/a_vm1236.png\n",
            "list index out of range /content/gdrive/My Drive/visible man/head/a_vm1253.png\n",
            "list index out of range /content/gdrive/My Drive/visible man/head/a_vm1191.png\n",
            "list index out of range /content/gdrive/My Drive/visible man/head/a_vm1198.png\n",
            "list index out of range /content/gdrive/My Drive/visible man/head/a_vm1184.png\n",
            "list index out of range /content/gdrive/My Drive/visible man/head/a_vm1157.png\n",
            "list index out of range /content/gdrive/My Drive/visible man/head/a_vm1225.png\n",
            "list index out of range /content/gdrive/My Drive/visible man/head/a_vm1152.png\n",
            "list index out of range /content/gdrive/My Drive/visible man/head/a_vm1185.png\n",
            "list index out of range /content/gdrive/My Drive/visible man/head/a_vm1178.png\n",
            "list index out of range /content/gdrive/My Drive/visible man/head/a_vm1223.png\n",
            "-0.7347480106100795\n",
            "list index out of range /content/gdrive/My Drive/visible man/head/a_vm1221.png\n",
            "list index out of range /content/gdrive/My Drive/visible man/head/a_vm1204.png\n",
            "list index out of range /content/gdrive/My Drive/visible man/head/a_vm1186.png\n",
            "list index out of range /content/gdrive/My Drive/visible man/head/a_vm1246.png\n",
            "list index out of range /content/gdrive/My Drive/visible man/head/a_vm1153.png\n",
            "list index out of range /content/gdrive/My Drive/visible man/head/a_vm1177.png\n",
            "list index out of range /content/gdrive/My Drive/visible man/head/a_vm1224.png\n",
            "list index out of range /content/gdrive/My Drive/visible man/head/a_vm1181.png\n",
            "list index out of range /content/gdrive/My Drive/visible man/head/a_vm1238.png\n",
            "list index out of range /content/gdrive/My Drive/visible man/head/a_vm1352.png\n",
            "list index out of range /content/gdrive/My Drive/visible man/head/a_vm1229.png\n",
            "list index out of range /content/gdrive/My Drive/visible man/head/a_vm1231.png\n",
            "list index out of range /content/gdrive/My Drive/visible man/head/a_vm1256.png\n",
            "list index out of range /content/gdrive/My Drive/visible man/head/a_vm1230.png\n",
            "list index out of range /content/gdrive/My Drive/visible man/head/a_vm1254.png\n",
            "list index out of range /content/gdrive/My Drive/visible man/head/a_vm1180.png\n",
            "list index out of range /content/gdrive/My Drive/visible man/head/a_vm1192.png\n",
            "list index out of range /content/gdrive/My Drive/visible man/head/a_vm1154.png\n",
            "list index out of range /content/gdrive/My Drive/visible man/head/a_vm1242.png\n",
            "list index out of range /content/gdrive/My Drive/visible man/head/a_vm1240.png\n",
            "list index out of range /content/gdrive/My Drive/visible man/head/a_vm1226.png\n",
            "list index out of range /content/gdrive/My Drive/visible man/head/a_vm1007.png\n",
            "list index out of range /content/gdrive/My Drive/visible man/head/a_vm1244.png\n",
            "list index out of range /content/gdrive/My Drive/visible man/head/a_vm1228.png\n",
            "-0.4694960212201591\n",
            "list index out of range /content/gdrive/My Drive/visible man/head/a_vm1259.png\n",
            "list index out of range /content/gdrive/My Drive/visible man/head/a_vm1179.png\n",
            "list index out of range /content/gdrive/My Drive/visible man/head/a_vm1239.png\n",
            "list index out of range /content/gdrive/My Drive/visible man/head/a_vm1151.png\n",
            "list index out of range /content/gdrive/My Drive/visible man/head/a_vm1245.png\n",
            "list index out of range /content/gdrive/My Drive/visible man/head/a_vm1251.png\n",
            "list index out of range /content/gdrive/My Drive/visible man/head/a_vm1249.png\n",
            "list index out of range /content/gdrive/My Drive/visible man/head/a_vm1250.png\n",
            "list index out of range /content/gdrive/My Drive/visible man/head/a_vm1247.png\n",
            "list index out of range /content/gdrive/My Drive/visible man/head/a_vm1237.png\n",
            "list index out of range /content/gdrive/My Drive/visible man/head/a_vm1260.png\n",
            "list index out of range /content/gdrive/My Drive/visible man/head/a_vm1258.png\n",
            "list index out of range /content/gdrive/My Drive/visible man/head/a_vm1252.png\n",
            "list index out of range /content/gdrive/My Drive/visible man/head/a_vm1190.png\n",
            "list index out of range /content/gdrive/My Drive/visible man/head/a_vm1241.png\n",
            "list index out of range /content/gdrive/My Drive/visible man/head/a_vm1235.png\n",
            "list index out of range /content/gdrive/My Drive/visible man/head/a_vm1156.png\n",
            "list index out of range /content/gdrive/My Drive/visible man/head/a_vm1234.png\n",
            "list index out of range /content/gdrive/My Drive/visible man/head/a_vm1233.png\n",
            "list index out of range /content/gdrive/My Drive/visible man/head/a_vm1194.png\n",
            "-0.20424403183023876\n",
            "list index out of range /content/gdrive/My Drive/visible man/head/a_vm1155.png\n",
            "list index out of range /content/gdrive/My Drive/visible man/head/a_vm1232.png\n",
            "list index out of range /content/gdrive/My Drive/visible man/head/a_vm1203.png\n",
            "list index out of range /content/gdrive/My Drive/visible man/head/a_vm1257.png\n",
            "list index out of range /content/gdrive/My Drive/visible man/head/a_vm1183.png\n",
            "list index out of range /content/gdrive/My Drive/visible man/head/a_vm1243.png\n",
            "list index out of range /content/gdrive/My Drive/visible man/head/a_vm1010.png\n",
            "list index out of range /content/gdrive/My Drive/visible man/head/a_vm1182.png\n",
            "'NoneType' object has no attribute 'reshape' /content/gdrive/My Drive/visible man/head/a_vm1277.png\n",
            "-0.0026525198938992522\n"
          ],
          "name": "stdout"
        }
      ]
    },
    {
      "cell_type": "code",
      "metadata": {
        "id": "XRg5Ma9kgI4l",
        "colab_type": "code",
        "colab": {}
      },
      "source": [
        "failed = ['/content/gdrive/My Drive/visible man/head/a_vm1262.png',\n",
        "'/content/gdrive/My Drive/visible man/head/a_vm1227.png',\n",
        "'/content/gdrive/My Drive/visible man/head/a_vm1248.png',\n",
        "'/content/gdrive/My Drive/visible man/head/a_vm1189.png',\n",
        "'/content/gdrive/My Drive/visible man/head/a_vm1255.png',\n",
        "'/content/gdrive/My Drive/visible man/head/a_vm1222.png',\n",
        "'/content/gdrive/My Drive/visible man/head/a_vm1236.png',\n",
        "'/content/gdrive/My Drive/visible man/head/a_vm1253.png',\n",
        "'/content/gdrive/My Drive/visible man/head/a_vm1191.png',\n",
        "'/content/gdrive/My Drive/visible man/head/a_vm1198.png',\n",
        "'/content/gdrive/My Drive/visible man/head/a_vm1184.png',\n",
        "'/content/gdrive/My Drive/visible man/head/a_vm1157.png',\n",
        "'/content/gdrive/My Drive/visible man/head/a_vm1225.png',\n",
        "'/content/gdrive/My Drive/visible man/head/a_vm1152.png',\n",
        "'/content/gdrive/My Drive/visible man/head/a_vm1185.png',\n",
        "'/content/gdrive/My Drive/visible man/head/a_vm1178.png',\n",
        "'/content/gdrive/My Drive/visible man/head/a_vm1223.png',\n",
        "'/content/gdrive/My Drive/visible man/head/a_vm1221.png',\n",
        "'/content/gdrive/My Drive/visible man/head/a_vm1204.png',\n",
        "'/content/gdrive/My Drive/visible man/head/a_vm1186.png',\n",
        "'/content/gdrive/My Drive/visible man/head/a_vm1246.png',\n",
        "'/content/gdrive/My Drive/visible man/head/a_vm1153.png',\n",
        "'/content/gdrive/My Drive/visible man/head/a_vm1177.png',\n",
        "'/content/gdrive/My Drive/visible man/head/a_vm1224.png',\n",
        "'/content/gdrive/My Drive/visible man/head/a_vm1181.png',\n",
        "'/content/gdrive/My Drive/visible man/head/a_vm1238.png',\n",
        "'/content/gdrive/My Drive/visible man/head/a_vm1352.png',\n",
        "'/content/gdrive/My Drive/visible man/head/a_vm1229.png',\n",
        "'/content/gdrive/My Drive/visible man/head/a_vm1231.png',\n",
        "'/content/gdrive/My Drive/visible man/head/a_vm1256.png',\n",
        "'/content/gdrive/My Drive/visible man/head/a_vm1230.png',\n",
        "'/content/gdrive/My Drive/visible man/head/a_vm1254.png',\n",
        "'/content/gdrive/My Drive/visible man/head/a_vm1180.png',\n",
        "'/content/gdrive/My Drive/visible man/head/a_vm1192.png',\n",
        "'/content/gdrive/My Drive/visible man/head/a_vm1154.png',\n",
        "'/content/gdrive/My Drive/visible man/head/a_vm1242.png',\n",
        "'/content/gdrive/My Drive/visible man/head/a_vm1240.png',\n",
        "'/content/gdrive/My Drive/visible man/head/a_vm1226.png',\n",
        "'/content/gdrive/My Drive/visible man/head/a_vm1007.png',\n",
        "'/content/gdrive/My Drive/visible man/head/a_vm1244.png',\n",
        "'/content/gdrive/My Drive/visible man/head/a_vm1228.png',\n",
        "'/content/gdrive/My Drive/visible man/head/a_vm1259.png',\n",
        "'/content/gdrive/My Drive/visible man/head/a_vm1179.png',\n",
        "'/content/gdrive/My Drive/visible man/head/a_vm1239.png',\n",
        "'/content/gdrive/My Drive/visible man/head/a_vm1151.png',\n",
        "'/content/gdrive/My Drive/visible man/head/a_vm1245.png',\n",
        "'/content/gdrive/My Drive/visible man/head/a_vm1251.png',\n",
        "'/content/gdrive/My Drive/visible man/head/a_vm1249.png',\n",
        "'/content/gdrive/My Drive/visible man/head/a_vm1250.png',\n",
        "'/content/gdrive/My Drive/visible man/head/a_vm1247.png',\n",
        "'/content/gdrive/My Drive/visible man/head/a_vm1237.png',\n",
        "'/content/gdrive/My Drive/visible man/head/a_vm1260.png',\n",
        "'/content/gdrive/My Drive/visible man/head/a_vm1258.png',\n",
        "'/content/gdrive/My Drive/visible man/head/a_vm1252.png',\n",
        "'/content/gdrive/My Drive/visible man/head/a_vm1190.png',\n",
        "'/content/gdrive/My Drive/visible man/head/a_vm1241.png',\n",
        "'/content/gdrive/My Drive/visible man/head/a_vm1235.png',\n",
        "'/content/gdrive/My Drive/visible man/head/a_vm1156.png',\n",
        "'/content/gdrive/My Drive/visible man/head/a_vm1234.png',\n",
        "'/content/gdrive/My Drive/visible man/head/a_vm1233.png',\n",
        "'/content/gdrive/My Drive/visible man/head/a_vm1194.png',\n",
        "'/content/gdrive/My Drive/visible man/head/a_vm1155.png',\n",
        "'/content/gdrive/My Drive/visible man/head/a_vm1232.png',\n",
        "'/content/gdrive/My Drive/visible man/head/a_vm1203.png',\n",
        "'/content/gdrive/My Drive/visible man/head/a_vm1257.png',\n",
        "'/content/gdrive/My Drive/visible man/head/a_vm1183.png',\n",
        "'/content/gdrive/My Drive/visible man/head/a_vm1243.png',\n",
        "'/content/gdrive/My Drive/visible man/head/a_vm1010.png',\n",
        "'/content/gdrive/My Drive/visible man/head/a_vm1182.png']"
      ],
      "execution_count": 0,
      "outputs": []
    },
    {
      "cell_type": "code",
      "metadata": {
        "id": "wJtulH27Ug2A",
        "colab_type": "code",
        "colab": {
          "base_uri": "https://localhost:8080/",
          "height": 1000
        },
        "outputId": "05bf6eb2-ccf6-41c0-d10e-8488f0275377"
      },
      "source": [
        "for pic in failed:\n",
        "  filter_image(pic)\n"
      ],
      "execution_count": 19,
      "outputs": [
        {
          "output_type": "stream",
          "text": [
            "error in croping ['', 'content', 'gdrive', 'My Drive', 'visible man', 'head', 'a_vm1227.png']\n",
            "error in croping ['', 'content', 'gdrive', 'My Drive', 'visible man', 'head', 'a_vm1248.png']\n",
            "error in croping ['', 'content', 'gdrive', 'My Drive', 'visible man', 'head', 'a_vm1189.png']\n",
            "error in croping ['', 'content', 'gdrive', 'My Drive', 'visible man', 'head', 'a_vm1255.png']\n",
            "error in croping ['', 'content', 'gdrive', 'My Drive', 'visible man', 'head', 'a_vm1222.png']\n",
            "error in croping ['', 'content', 'gdrive', 'My Drive', 'visible man', 'head', 'a_vm1236.png']\n",
            "error in croping ['', 'content', 'gdrive', 'My Drive', 'visible man', 'head', 'a_vm1253.png']\n",
            "error in croping ['', 'content', 'gdrive', 'My Drive', 'visible man', 'head', 'a_vm1191.png']\n",
            "error in croping ['', 'content', 'gdrive', 'My Drive', 'visible man', 'head', 'a_vm1198.png']\n",
            "error in croping ['', 'content', 'gdrive', 'My Drive', 'visible man', 'head', 'a_vm1184.png']\n",
            "error in croping ['', 'content', 'gdrive', 'My Drive', 'visible man', 'head', 'a_vm1157.png']\n",
            "error in croping ['', 'content', 'gdrive', 'My Drive', 'visible man', 'head', 'a_vm1225.png']\n",
            "error in croping ['', 'content', 'gdrive', 'My Drive', 'visible man', 'head', 'a_vm1152.png']\n",
            "error in croping ['', 'content', 'gdrive', 'My Drive', 'visible man', 'head', 'a_vm1185.png']\n",
            "error in croping ['', 'content', 'gdrive', 'My Drive', 'visible man', 'head', 'a_vm1178.png']\n",
            "error in croping ['', 'content', 'gdrive', 'My Drive', 'visible man', 'head', 'a_vm1223.png']\n",
            "error in croping ['', 'content', 'gdrive', 'My Drive', 'visible man', 'head', 'a_vm1221.png']\n",
            "error in croping ['', 'content', 'gdrive', 'My Drive', 'visible man', 'head', 'a_vm1246.png']\n",
            "error in croping ['', 'content', 'gdrive', 'My Drive', 'visible man', 'head', 'a_vm1153.png']\n",
            "error in croping ['', 'content', 'gdrive', 'My Drive', 'visible man', 'head', 'a_vm1177.png']\n",
            "error in croping ['', 'content', 'gdrive', 'My Drive', 'visible man', 'head', 'a_vm1224.png']\n",
            "error in croping ['', 'content', 'gdrive', 'My Drive', 'visible man', 'head', 'a_vm1181.png']\n",
            "error in croping ['', 'content', 'gdrive', 'My Drive', 'visible man', 'head', 'a_vm1238.png']\n",
            "error in croping ['', 'content', 'gdrive', 'My Drive', 'visible man', 'head', 'a_vm1352.png']\n",
            "error in croping ['', 'content', 'gdrive', 'My Drive', 'visible man', 'head', 'a_vm1229.png']\n",
            "error in croping ['', 'content', 'gdrive', 'My Drive', 'visible man', 'head', 'a_vm1231.png']\n",
            "error in croping ['', 'content', 'gdrive', 'My Drive', 'visible man', 'head', 'a_vm1256.png']\n",
            "error in croping ['', 'content', 'gdrive', 'My Drive', 'visible man', 'head', 'a_vm1230.png']\n",
            "error in croping ['', 'content', 'gdrive', 'My Drive', 'visible man', 'head', 'a_vm1254.png']\n",
            "error in croping ['', 'content', 'gdrive', 'My Drive', 'visible man', 'head', 'a_vm1180.png']\n",
            "error in croping ['', 'content', 'gdrive', 'My Drive', 'visible man', 'head', 'a_vm1192.png']\n",
            "error in croping ['', 'content', 'gdrive', 'My Drive', 'visible man', 'head', 'a_vm1154.png']\n",
            "error in croping ['', 'content', 'gdrive', 'My Drive', 'visible man', 'head', 'a_vm1242.png']\n",
            "error in croping ['', 'content', 'gdrive', 'My Drive', 'visible man', 'head', 'a_vm1240.png']\n",
            "error in croping ['', 'content', 'gdrive', 'My Drive', 'visible man', 'head', 'a_vm1226.png']\n",
            "error in croping ['', 'content', 'gdrive', 'My Drive', 'visible man', 'head', 'a_vm1244.png']\n",
            "error in croping ['', 'content', 'gdrive', 'My Drive', 'visible man', 'head', 'a_vm1228.png']\n",
            "error in croping ['', 'content', 'gdrive', 'My Drive', 'visible man', 'head', 'a_vm1259.png']\n",
            "error in croping ['', 'content', 'gdrive', 'My Drive', 'visible man', 'head', 'a_vm1179.png']\n",
            "error in croping ['', 'content', 'gdrive', 'My Drive', 'visible man', 'head', 'a_vm1239.png']\n",
            "error in croping ['', 'content', 'gdrive', 'My Drive', 'visible man', 'head', 'a_vm1151.png']\n",
            "error in croping ['', 'content', 'gdrive', 'My Drive', 'visible man', 'head', 'a_vm1245.png']\n",
            "error in croping ['', 'content', 'gdrive', 'My Drive', 'visible man', 'head', 'a_vm1251.png']\n",
            "error in croping ['', 'content', 'gdrive', 'My Drive', 'visible man', 'head', 'a_vm1249.png']\n",
            "error in croping ['', 'content', 'gdrive', 'My Drive', 'visible man', 'head', 'a_vm1247.png']\n",
            "error in croping ['', 'content', 'gdrive', 'My Drive', 'visible man', 'head', 'a_vm1237.png']\n",
            "error in croping ['', 'content', 'gdrive', 'My Drive', 'visible man', 'head', 'a_vm1258.png']\n",
            "error in croping ['', 'content', 'gdrive', 'My Drive', 'visible man', 'head', 'a_vm1190.png']\n",
            "error in croping ['', 'content', 'gdrive', 'My Drive', 'visible man', 'head', 'a_vm1241.png']\n",
            "error in croping ['', 'content', 'gdrive', 'My Drive', 'visible man', 'head', 'a_vm1235.png']\n",
            "error in croping ['', 'content', 'gdrive', 'My Drive', 'visible man', 'head', 'a_vm1156.png']\n",
            "error in croping ['', 'content', 'gdrive', 'My Drive', 'visible man', 'head', 'a_vm1234.png']\n",
            "error in croping ['', 'content', 'gdrive', 'My Drive', 'visible man', 'head', 'a_vm1233.png']\n",
            "error in croping ['', 'content', 'gdrive', 'My Drive', 'visible man', 'head', 'a_vm1194.png']\n",
            "error in croping ['', 'content', 'gdrive', 'My Drive', 'visible man', 'head', 'a_vm1155.png']\n",
            "error in croping ['', 'content', 'gdrive', 'My Drive', 'visible man', 'head', 'a_vm1232.png']\n",
            "error in croping ['', 'content', 'gdrive', 'My Drive', 'visible man', 'head', 'a_vm1257.png']\n",
            "error in croping ['', 'content', 'gdrive', 'My Drive', 'visible man', 'head', 'a_vm1183.png']\n",
            "error in croping ['', 'content', 'gdrive', 'My Drive', 'visible man', 'head', 'a_vm1243.png']\n",
            "error in croping ['', 'content', 'gdrive', 'My Drive', 'visible man', 'head', 'a_vm1182.png']\n"
          ],
          "name": "stdout"
        }
      ]
    },
    {
      "cell_type": "code",
      "metadata": {
        "id": "ntCgKGuwUopz",
        "colab_type": "code",
        "colab": {}
      },
      "source": [
        ""
      ],
      "execution_count": 0,
      "outputs": []
    }
  ]
}